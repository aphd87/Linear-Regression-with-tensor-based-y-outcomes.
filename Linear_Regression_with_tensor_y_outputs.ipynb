{
  "nbformat": 4,
  "nbformat_minor": 0,
  "metadata": {
    "colab": {
      "provenance": []
    },
    "kernelspec": {
      "name": "python3",
      "display_name": "Python 3"
    },
    "language_info": {
      "name": "python"
    }
  },
  "cells": [
    {
      "cell_type": "code",
      "execution_count": 31,
      "metadata": {
        "colab": {
          "base_uri": "https://localhost:8080/"
        },
        "id": "4mNsH_Sc0LJF",
        "outputId": "4356eaef-e25e-4075-d199-9fe3ab1545a0"
      },
      "outputs": [
        {
          "output_type": "stream",
          "name": "stdout",
          "text": [
            "Looking in indexes: https://pypi.org/simple, https://us-python.pkg.dev/colab-wheels/public/simple/\n",
            "Requirement already satisfied: torch in /usr/local/lib/python3.8/dist-packages (1.12.1+cu113)\n",
            "Requirement already satisfied: typing-extensions in /usr/local/lib/python3.8/dist-packages (from torch) (4.1.1)\n"
          ]
        }
      ],
      "source": [
        "!pip3 install torch\n",
        "import torch\n",
        "from torch.nn import Linear #we will use inheritance such that LR will leverage base class nn.Module"
      ]
    },
    {
      "cell_type": "code",
      "source": [
        "w = torch.tensor(3.0, requires_grad=True) #3 is a random value for weight, #slope\n",
        "b = torch.tensor(1.0, requires_grad=True) #y-intercept\n",
        "#x #weight \n",
        "#y=w*x+b\n",
        "\n",
        "\n"
      ],
      "metadata": {
        "id": "C9lty1nD0Q3V"
      },
      "execution_count": 32,
      "outputs": []
    },
    {
      "cell_type": "code",
      "source": [
        "def forward(x): #Forward function, receives the input (x value), which will be passed into model\n",
        "  y=w*x +b\n",
        "  return y"
      ],
      "metadata": {
        "id": "dr14Pvug1Ck9"
      },
      "execution_count": 33,
      "outputs": []
    },
    {
      "cell_type": "code",
      "source": [
        "x = torch.tensor([[2], [7]])\n",
        "forward(x)\n",
        "#Prediction of 7 and 22 here."
      ],
      "metadata": {
        "colab": {
          "base_uri": "https://localhost:8080/"
        },
        "id": "1ulG-6F_1Oo8",
        "outputId": "fed364a8-d3c6-4484-8e18-63be0c908822"
      },
      "execution_count": 34,
      "outputs": [
        {
          "output_type": "execute_result",
          "data": {
            "text/plain": [
              "tensor([[ 7.],\n",
              "        [22.]], grad_fn=<AddBackward0>)"
            ]
          },
          "metadata": {},
          "execution_count": 34
        }
      ]
    },
    {
      "cell_type": "code",
      "source": [
        "import tensorflow as tf\n",
        "torch.manual_seed(1) #Generate random numbers\n",
        "model = Linear(in_features=1, out_features=1) #For every prediction, for every output, there is a single input\n",
        "print(model.bias, model.weight)\n",
        "#y = 0.5153x - 0.4414"
      ],
      "metadata": {
        "colab": {
          "base_uri": "https://localhost:8080/"
        },
        "id": "JT4TI-Xs1d31",
        "outputId": "c12ea63d-048b-4cc4-b0e5-a61c6cf07cf1"
      },
      "execution_count": 35,
      "outputs": [
        {
          "output_type": "stream",
          "name": "stdout",
          "text": [
            "Parameter containing:\n",
            "tensor([-0.4414], requires_grad=True) Parameter containing:\n",
            "tensor([[0.5153]], requires_grad=True)\n"
          ]
        }
      ]
    },
    {
      "cell_type": "code",
      "source": [
        "x = torch.tensor([2.0]) #float value \n",
        "model(x)\n",
        "#y = 0.5891 when x = 2.0"
      ],
      "metadata": {
        "colab": {
          "base_uri": "https://localhost:8080/"
        },
        "id": "IK_2jnzu21dU",
        "outputId": "6323ac3b-555d-4a87-f438-20a8dcd42aec"
      },
      "execution_count": 36,
      "outputs": [
        {
          "output_type": "execute_result",
          "data": {
            "text/plain": [
              "tensor([0.5891], grad_fn=<AddBackward0>)"
            ]
          },
          "metadata": {},
          "execution_count": 36
        }
      ]
    }
  ]
}